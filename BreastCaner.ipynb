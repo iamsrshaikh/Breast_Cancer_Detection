{
 "cells": [
  {
   "cell_type": "markdown",
   "metadata": {},
   "source": [
    "# Importing the libraries"
   ]
  },
  {
   "cell_type": "code",
   "execution_count": 1,
   "metadata": {},
   "outputs": [],
   "source": [
    "import numpy as np\n",
    "import pandas as pd\n",
    "import matplotlib.pyplot as plt\n",
    "import tensorflow as tf\n",
    "import seaborn as sns\n"
   ]
  },
  {
   "cell_type": "markdown",
   "metadata": {},
   "source": [
    "# Importing the dataset"
   ]
  },
  {
   "cell_type": "code",
   "execution_count": 2,
   "metadata": {},
   "outputs": [],
   "source": [
    "dataset = pd.read_csv('breast_cancer.csv')\n"
   ]
  },
  {
   "cell_type": "code",
   "execution_count": 3,
   "metadata": {},
   "outputs": [
    {
     "data": {
      "text/html": [
       "<div>\n",
       "<style scoped>\n",
       "    .dataframe tbody tr th:only-of-type {\n",
       "        vertical-align: middle;\n",
       "    }\n",
       "\n",
       "    .dataframe tbody tr th {\n",
       "        vertical-align: top;\n",
       "    }\n",
       "\n",
       "    .dataframe thead th {\n",
       "        text-align: right;\n",
       "    }\n",
       "</style>\n",
       "<table border=\"1\" class=\"dataframe\">\n",
       "  <thead>\n",
       "    <tr style=\"text-align: right;\">\n",
       "      <th></th>\n",
       "      <th>Sample code number</th>\n",
       "      <th>Clump Thickness</th>\n",
       "      <th>Uniformity of Cell Size</th>\n",
       "      <th>Uniformity of Cell Shape</th>\n",
       "      <th>Marginal Adhesion</th>\n",
       "      <th>Single Epithelial Cell Size</th>\n",
       "      <th>Bare Nuclei</th>\n",
       "      <th>Bland Chromatin</th>\n",
       "      <th>Normal Nucleoli</th>\n",
       "      <th>Mitoses</th>\n",
       "      <th>Class</th>\n",
       "    </tr>\n",
       "  </thead>\n",
       "  <tbody>\n",
       "    <tr>\n",
       "      <th>0</th>\n",
       "      <td>1000025</td>\n",
       "      <td>5</td>\n",
       "      <td>1</td>\n",
       "      <td>1</td>\n",
       "      <td>1</td>\n",
       "      <td>2</td>\n",
       "      <td>1</td>\n",
       "      <td>3</td>\n",
       "      <td>1</td>\n",
       "      <td>1</td>\n",
       "      <td>2</td>\n",
       "    </tr>\n",
       "    <tr>\n",
       "      <th>1</th>\n",
       "      <td>1002945</td>\n",
       "      <td>5</td>\n",
       "      <td>4</td>\n",
       "      <td>4</td>\n",
       "      <td>5</td>\n",
       "      <td>7</td>\n",
       "      <td>10</td>\n",
       "      <td>3</td>\n",
       "      <td>2</td>\n",
       "      <td>1</td>\n",
       "      <td>2</td>\n",
       "    </tr>\n",
       "    <tr>\n",
       "      <th>2</th>\n",
       "      <td>1015425</td>\n",
       "      <td>3</td>\n",
       "      <td>1</td>\n",
       "      <td>1</td>\n",
       "      <td>1</td>\n",
       "      <td>2</td>\n",
       "      <td>2</td>\n",
       "      <td>3</td>\n",
       "      <td>1</td>\n",
       "      <td>1</td>\n",
       "      <td>2</td>\n",
       "    </tr>\n",
       "    <tr>\n",
       "      <th>3</th>\n",
       "      <td>1016277</td>\n",
       "      <td>6</td>\n",
       "      <td>8</td>\n",
       "      <td>8</td>\n",
       "      <td>1</td>\n",
       "      <td>3</td>\n",
       "      <td>4</td>\n",
       "      <td>3</td>\n",
       "      <td>7</td>\n",
       "      <td>1</td>\n",
       "      <td>2</td>\n",
       "    </tr>\n",
       "    <tr>\n",
       "      <th>4</th>\n",
       "      <td>1017023</td>\n",
       "      <td>4</td>\n",
       "      <td>1</td>\n",
       "      <td>1</td>\n",
       "      <td>3</td>\n",
       "      <td>2</td>\n",
       "      <td>1</td>\n",
       "      <td>3</td>\n",
       "      <td>1</td>\n",
       "      <td>1</td>\n",
       "      <td>2</td>\n",
       "    </tr>\n",
       "    <tr>\n",
       "      <th>...</th>\n",
       "      <td>...</td>\n",
       "      <td>...</td>\n",
       "      <td>...</td>\n",
       "      <td>...</td>\n",
       "      <td>...</td>\n",
       "      <td>...</td>\n",
       "      <td>...</td>\n",
       "      <td>...</td>\n",
       "      <td>...</td>\n",
       "      <td>...</td>\n",
       "      <td>...</td>\n",
       "    </tr>\n",
       "    <tr>\n",
       "      <th>678</th>\n",
       "      <td>776715</td>\n",
       "      <td>3</td>\n",
       "      <td>1</td>\n",
       "      <td>1</td>\n",
       "      <td>1</td>\n",
       "      <td>3</td>\n",
       "      <td>2</td>\n",
       "      <td>1</td>\n",
       "      <td>1</td>\n",
       "      <td>1</td>\n",
       "      <td>2</td>\n",
       "    </tr>\n",
       "    <tr>\n",
       "      <th>679</th>\n",
       "      <td>841769</td>\n",
       "      <td>2</td>\n",
       "      <td>1</td>\n",
       "      <td>1</td>\n",
       "      <td>1</td>\n",
       "      <td>2</td>\n",
       "      <td>1</td>\n",
       "      <td>1</td>\n",
       "      <td>1</td>\n",
       "      <td>1</td>\n",
       "      <td>2</td>\n",
       "    </tr>\n",
       "    <tr>\n",
       "      <th>680</th>\n",
       "      <td>888820</td>\n",
       "      <td>5</td>\n",
       "      <td>10</td>\n",
       "      <td>10</td>\n",
       "      <td>3</td>\n",
       "      <td>7</td>\n",
       "      <td>3</td>\n",
       "      <td>8</td>\n",
       "      <td>10</td>\n",
       "      <td>2</td>\n",
       "      <td>4</td>\n",
       "    </tr>\n",
       "    <tr>\n",
       "      <th>681</th>\n",
       "      <td>897471</td>\n",
       "      <td>4</td>\n",
       "      <td>8</td>\n",
       "      <td>6</td>\n",
       "      <td>4</td>\n",
       "      <td>3</td>\n",
       "      <td>4</td>\n",
       "      <td>10</td>\n",
       "      <td>6</td>\n",
       "      <td>1</td>\n",
       "      <td>4</td>\n",
       "    </tr>\n",
       "    <tr>\n",
       "      <th>682</th>\n",
       "      <td>897471</td>\n",
       "      <td>4</td>\n",
       "      <td>8</td>\n",
       "      <td>8</td>\n",
       "      <td>5</td>\n",
       "      <td>4</td>\n",
       "      <td>5</td>\n",
       "      <td>10</td>\n",
       "      <td>4</td>\n",
       "      <td>1</td>\n",
       "      <td>4</td>\n",
       "    </tr>\n",
       "  </tbody>\n",
       "</table>\n",
       "<p>683 rows × 11 columns</p>\n",
       "</div>"
      ],
      "text/plain": [
       "     Sample code number  Clump Thickness  Uniformity of Cell Size  \\\n",
       "0               1000025                5                        1   \n",
       "1               1002945                5                        4   \n",
       "2               1015425                3                        1   \n",
       "3               1016277                6                        8   \n",
       "4               1017023                4                        1   \n",
       "..                  ...              ...                      ...   \n",
       "678              776715                3                        1   \n",
       "679              841769                2                        1   \n",
       "680              888820                5                       10   \n",
       "681              897471                4                        8   \n",
       "682              897471                4                        8   \n",
       "\n",
       "     Uniformity of Cell Shape  Marginal Adhesion  Single Epithelial Cell Size  \\\n",
       "0                           1                  1                            2   \n",
       "1                           4                  5                            7   \n",
       "2                           1                  1                            2   \n",
       "3                           8                  1                            3   \n",
       "4                           1                  3                            2   \n",
       "..                        ...                ...                          ...   \n",
       "678                         1                  1                            3   \n",
       "679                         1                  1                            2   \n",
       "680                        10                  3                            7   \n",
       "681                         6                  4                            3   \n",
       "682                         8                  5                            4   \n",
       "\n",
       "     Bare Nuclei  Bland Chromatin  Normal Nucleoli  Mitoses  Class  \n",
       "0              1                3                1        1      2  \n",
       "1             10                3                2        1      2  \n",
       "2              2                3                1        1      2  \n",
       "3              4                3                7        1      2  \n",
       "4              1                3                1        1      2  \n",
       "..           ...              ...              ...      ...    ...  \n",
       "678            2                1                1        1      2  \n",
       "679            1                1                1        1      2  \n",
       "680            3                8               10        2      4  \n",
       "681            4               10                6        1      4  \n",
       "682            5               10                4        1      4  \n",
       "\n",
       "[683 rows x 11 columns]"
      ]
     },
     "execution_count": 3,
     "metadata": {},
     "output_type": "execute_result"
    }
   ],
   "source": [
    "dataset"
   ]
  },
  {
   "cell_type": "code",
   "execution_count": 4,
   "metadata": {},
   "outputs": [
    {
     "data": {
      "text/plain": [
       "(683, 11)"
      ]
     },
     "execution_count": 4,
     "metadata": {},
     "output_type": "execute_result"
    }
   ],
   "source": [
    "dataset.shape"
   ]
  },
  {
   "cell_type": "code",
   "execution_count": 5,
   "metadata": {},
   "outputs": [
    {
     "name": "stdout",
     "output_type": "stream",
     "text": [
      "<class 'pandas.core.frame.DataFrame'>\n",
      "RangeIndex: 683 entries, 0 to 682\n",
      "Data columns (total 11 columns):\n",
      " #   Column                       Non-Null Count  Dtype\n",
      "---  ------                       --------------  -----\n",
      " 0   Sample code number           683 non-null    int64\n",
      " 1   Clump Thickness              683 non-null    int64\n",
      " 2   Uniformity of Cell Size      683 non-null    int64\n",
      " 3   Uniformity of Cell Shape     683 non-null    int64\n",
      " 4   Marginal Adhesion            683 non-null    int64\n",
      " 5   Single Epithelial Cell Size  683 non-null    int64\n",
      " 6   Bare Nuclei                  683 non-null    int64\n",
      " 7   Bland Chromatin              683 non-null    int64\n",
      " 8   Normal Nucleoli              683 non-null    int64\n",
      " 9   Mitoses                      683 non-null    int64\n",
      " 10  Class                        683 non-null    int64\n",
      "dtypes: int64(11)\n",
      "memory usage: 58.8 KB\n"
     ]
    }
   ],
   "source": [
    "dataset.info()"
   ]
  },
  {
   "cell_type": "code",
   "execution_count": 6,
   "metadata": {},
   "outputs": [
    {
     "data": {
      "text/plain": [
       "Sample code number             0\n",
       "Clump Thickness                0\n",
       "Uniformity of Cell Size        0\n",
       "Uniformity of Cell Shape       0\n",
       "Marginal Adhesion              0\n",
       "Single Epithelial Cell Size    0\n",
       "Bare Nuclei                    0\n",
       "Bland Chromatin                0\n",
       "Normal Nucleoli                0\n",
       "Mitoses                        0\n",
       "Class                          0\n",
       "dtype: int64"
      ]
     },
     "execution_count": 6,
     "metadata": {},
     "output_type": "execute_result"
    }
   ],
   "source": [
    "#Calculating the missing value\n",
    "dataset.isnull().sum()"
   ]
  },
  {
   "cell_type": "code",
   "execution_count": 7,
   "metadata": {},
   "outputs": [
    {
     "data": {
      "text/plain": [
       "Index(['Sample code number', 'Clump Thickness', 'Uniformity of Cell Size',\n",
       "       'Uniformity of Cell Shape', 'Marginal Adhesion',\n",
       "       'Single Epithelial Cell Size', 'Bare Nuclei', 'Bland Chromatin',\n",
       "       'Normal Nucleoli', 'Mitoses', 'Class'],\n",
       "      dtype='object')"
      ]
     },
     "execution_count": 7,
     "metadata": {},
     "output_type": "execute_result"
    }
   ],
   "source": [
    "dataset.columns"
   ]
  },
  {
   "cell_type": "code",
   "execution_count": 8,
   "metadata": {},
   "outputs": [
    {
     "name": "stderr",
     "output_type": "stream",
     "text": [
      "C:\\Users\\sarfa\\anaconda3\\envs\\SarfEnv\\lib\\site-packages\\seaborn\\_decorators.py:43: FutureWarning: Pass the following variable as a keyword arg: x. From version 0.12, the only valid positional argument will be `data`, and passing other arguments without an explicit keyword will result in an error or misinterpretation.\n",
      "  FutureWarning\n"
     ]
    },
    {
     "name": "stdout",
     "output_type": "stream",
     "text": [
      "2    444\n",
      "4    239\n",
      "Name: Class, dtype: int64\n"
     ]
    },
    {
     "data": {
      "image/png": "[encoded data removed]",
      "text/plain": [
       "<Figure size 432x288 with 1 Axes>"
      ]
     },
     "metadata": {
      "needs_background": "light"
     },
     "output_type": "display_data"
    }
   ],
   "source": [
    "ax = sns.countplot(dataset[\"Class\"])\n",
    "print(dataset.Class.value_counts())"
   ]
  },
  {
   "cell_type": "code",
   "execution_count": 9,
   "metadata": {},
   "outputs": [],
   "source": [
    "#Splitting the dataset into independent and dependent variable\n",
    "X = dataset.iloc[:, 1:-1].values\n",
    "y = dataset.iloc[:, -1].values"
   ]
  },
  {
   "cell_type": "code",
   "execution_count": 10,
   "metadata": {},
   "outputs": [
    {
     "data": {
      "text/plain": [
       "array([[ 5,  1,  1, ...,  3,  1,  1],\n",
       "       [ 5,  4,  4, ...,  3,  2,  1],\n",
       "       [ 3,  1,  1, ...,  3,  1,  1],\n",
       "       ...,\n",
       "       [ 5, 10, 10, ...,  8, 10,  2],\n",
       "       [ 4,  8,  6, ..., 10,  6,  1],\n",
       "       [ 4,  8,  8, ..., 10,  4,  1]], dtype=int64)"
      ]
     },
     "execution_count": 10,
     "metadata": {},
     "output_type": "execute_result"
    }
   ],
   "source": [
    "X"
   ]
  },
  {
   "cell_type": "code",
   "execution_count": 11,
   "metadata": {},
   "outputs": [
    {
     "data": {
      "text/plain": [
       "array([2, 2, 2, 2, 2, 4, 2, 2, 2, 2, 2, 2, 4, 2, 4, 4, 2, 2, 4, 2, 4, 4,\n",
       "       2, 2, 4, 2, 2, 2, 2, 2, 2, 4, 2, 2, 2, 4, 2, 4, 4, 4, 4, 4, 4, 2,\n",
       "       4, 2, 2, 4, 4, 4, 4, 4, 4, 4, 4, 4, 4, 4, 4, 2, 4, 4, 2, 4, 2, 4,\n",
       "       4, 2, 2, 4, 2, 4, 4, 2, 2, 2, 2, 2, 2, 2, 2, 2, 4, 4, 4, 4, 2, 2,\n",
       "       2, 2, 2, 2, 2, 2, 2, 2, 4, 4, 4, 4, 2, 4, 4, 4, 4, 4, 2, 4, 2, 4,\n",
       "       4, 4, 2, 2, 2, 4, 2, 2, 2, 2, 4, 4, 4, 2, 4, 2, 4, 2, 2, 2, 4, 2,\n",
       "       2, 2, 2, 2, 2, 2, 2, 4, 2, 2, 4, 2, 2, 4, 2, 4, 4, 2, 2, 4, 2, 2,\n",
       "       4, 4, 2, 2, 2, 2, 4, 4, 2, 2, 2, 2, 2, 4, 4, 4, 2, 4, 2, 4, 2, 2,\n",
       "       2, 4, 4, 2, 4, 4, 4, 2, 4, 4, 2, 2, 2, 2, 2, 2, 2, 2, 4, 4, 2, 2,\n",
       "       2, 4, 4, 2, 2, 2, 4, 4, 2, 4, 4, 4, 2, 2, 4, 2, 2, 4, 4, 4, 4, 2,\n",
       "       4, 4, 2, 4, 4, 4, 2, 4, 2, 4, 4, 4, 4, 2, 2, 2, 2, 2, 2, 4, 4, 2,\n",
       "       2, 4, 2, 4, 4, 4, 2, 2, 2, 2, 4, 4, 4, 4, 4, 2, 4, 4, 4, 2, 4, 2,\n",
       "       4, 4, 2, 2, 2, 2, 4, 2, 2, 4, 4, 4, 4, 4, 2, 4, 4, 2, 2, 4, 4, 2,\n",
       "       2, 4, 4, 2, 4, 2, 4, 4, 2, 2, 4, 2, 2, 2, 4, 2, 2, 4, 4, 2, 2, 4,\n",
       "       2, 4, 2, 2, 4, 2, 4, 4, 4, 2, 2, 4, 4, 2, 4, 2, 2, 4, 4, 2, 2, 2,\n",
       "       4, 2, 2, 2, 4, 4, 2, 2, 2, 4, 2, 2, 4, 4, 4, 4, 4, 4, 2, 2, 2, 2,\n",
       "       4, 4, 2, 2, 2, 2, 2, 2, 2, 2, 2, 2, 2, 2, 2, 4, 2, 2, 2, 2, 4, 2,\n",
       "       2, 2, 2, 4, 2, 2, 2, 2, 2, 2, 2, 2, 4, 2, 2, 2, 2, 2, 2, 2, 2, 2,\n",
       "       2, 4, 2, 4, 2, 4, 2, 2, 2, 2, 4, 2, 2, 2, 4, 2, 4, 2, 2, 2, 2, 2,\n",
       "       2, 2, 4, 4, 2, 2, 2, 4, 2, 2, 2, 2, 2, 2, 2, 2, 4, 2, 2, 2, 4, 2,\n",
       "       4, 4, 4, 2, 2, 2, 2, 2, 2, 2, 4, 4, 4, 2, 2, 2, 2, 2, 2, 2, 2, 2,\n",
       "       2, 2, 4, 2, 2, 4, 4, 2, 2, 2, 4, 4, 4, 2, 4, 2, 4, 2, 2, 2, 2, 2,\n",
       "       2, 2, 2, 2, 2, 2, 2, 4, 2, 2, 2, 2, 2, 2, 2, 4, 4, 2, 2, 2, 4, 2,\n",
       "       2, 4, 4, 2, 2, 2, 2, 2, 2, 4, 2, 2, 2, 2, 2, 2, 2, 2, 2, 2, 2, 2,\n",
       "       2, 2, 2, 4, 2, 2, 4, 2, 2, 2, 2, 2, 2, 2, 2, 2, 2, 2, 2, 2, 2, 2,\n",
       "       4, 2, 2, 4, 4, 4, 4, 2, 2, 4, 2, 2, 2, 2, 2, 2, 4, 4, 2, 2, 2, 4,\n",
       "       2, 4, 2, 4, 4, 4, 2, 4, 2, 2, 2, 2, 2, 2, 2, 2, 4, 4, 4, 2, 2, 4,\n",
       "       2, 4, 4, 4, 2, 2, 2, 2, 2, 2, 2, 2, 2, 2, 2, 2, 4, 2, 2, 2, 2, 2,\n",
       "       2, 4, 2, 2, 4, 2, 2, 2, 2, 2, 2, 2, 2, 2, 2, 2, 4, 2, 2, 2, 2, 2,\n",
       "       2, 2, 2, 2, 4, 2, 2, 2, 2, 2, 2, 2, 2, 2, 4, 4, 4, 2, 2, 2, 2, 2,\n",
       "       2, 2, 2, 2, 4, 4, 2, 2, 2, 2, 2, 2, 2, 2, 2, 4, 2, 2, 2, 2, 4, 4,\n",
       "       4], dtype=int64)"
      ]
     },
     "execution_count": 11,
     "metadata": {},
     "output_type": "execute_result"
    }
   ],
   "source": [
    "y"
   ]
  },
  {
   "cell_type": "markdown",
   "metadata": {},
   "source": [
    "# Encoding the Dependent variable"
   ]
  },
  {
   "cell_type": "markdown",
   "metadata": {},
   "source": [
    "**benign as 0 and malignant as 1**"
   ]
  },
  {
   "cell_type": "code",
   "execution_count": 12,
   "metadata": {},
   "outputs": [],
   "source": [
    "\n",
    "from sklearn.preprocessing import LabelEncoder\n",
    "le = LabelEncoder()\n",
    "y = le.fit_transform(y)"
   ]
  },
  {
   "cell_type": "code",
   "execution_count": 13,
   "metadata": {},
   "outputs": [
    {
     "data": {
      "text/plain": [
       "array([0, 0, 0, 0, 0, 1, 0, 0, 0, 0, 0, 0, 1, 0, 1, 1, 0, 0, 1, 0, 1, 1,\n",
       "       0, 0, 1, 0, 0, 0, 0, 0, 0, 1, 0, 0, 0, 1, 0, 1, 1, 1, 1, 1, 1, 0,\n",
       "       1, 0, 0, 1, 1, 1, 1, 1, 1, 1, 1, 1, 1, 1, 1, 0, 1, 1, 0, 1, 0, 1,\n",
       "       1, 0, 0, 1, 0, 1, 1, 0, 0, 0, 0, 0, 0, 0, 0, 0, 1, 1, 1, 1, 0, 0,\n",
       "       0, 0, 0, 0, 0, 0, 0, 0, 1, 1, 1, 1, 0, 1, 1, 1, 1, 1, 0, 1, 0, 1,\n",
       "       1, 1, 0, 0, 0, 1, 0, 0, 0, 0, 1, 1, 1, 0, 1, 0, 1, 0, 0, 0, 1, 0,\n",
       "       0, 0, 0, 0, 0, 0, 0, 1, 0, 0, 1, 0, 0, 1, 0, 1, 1, 0, 0, 1, 0, 0,\n",
       "       1, 1, 0, 0, 0, 0, 1, 1, 0, 0, 0, 0, 0, 1, 1, 1, 0, 1, 0, 1, 0, 0,\n",
       "       0, 1, 1, 0, 1, 1, 1, 0, 1, 1, 0, 0, 0, 0, 0, 0, 0, 0, 1, 1, 0, 0,\n",
       "       0, 1, 1, 0, 0, 0, 1, 1, 0, 1, 1, 1, 0, 0, 1, 0, 0, 1, 1, 1, 1, 0,\n",
       "       1, 1, 0, 1, 1, 1, 0, 1, 0, 1, 1, 1, 1, 0, 0, 0, 0, 0, 0, 1, 1, 0,\n",
       "       0, 1, 0, 1, 1, 1, 0, 0, 0, 0, 1, 1, 1, 1, 1, 0, 1, 1, 1, 0, 1, 0,\n",
       "       1, 1, 0, 0, 0, 0, 1, 0, 0, 1, 1, 1, 1, 1, 0, 1, 1, 0, 0, 1, 1, 0,\n",
       "       0, 1, 1, 0, 1, 0, 1, 1, 0, 0, 1, 0, 0, 0, 1, 0, 0, 1, 1, 0, 0, 1,\n",
       "       0, 1, 0, 0, 1, 0, 1, 1, 1, 0, 0, 1, 1, 0, 1, 0, 0, 1, 1, 0, 0, 0,\n",
       "       1, 0, 0, 0, 1, 1, 0, 0, 0, 1, 0, 0, 1, 1, 1, 1, 1, 1, 0, 0, 0, 0,\n",
       "       1, 1, 0, 0, 0, 0, 0, 0, 0, 0, 0, 0, 0, 0, 0, 1, 0, 0, 0, 0, 1, 0,\n",
       "       0, 0, 0, 1, 0, 0, 0, 0, 0, 0, 0, 0, 1, 0, 0, 0, 0, 0, 0, 0, 0, 0,\n",
       "       0, 1, 0, 1, 0, 1, 0, 0, 0, 0, 1, 0, 0, 0, 1, 0, 1, 0, 0, 0, 0, 0,\n",
       "       0, 0, 1, 1, 0, 0, 0, 1, 0, 0, 0, 0, 0, 0, 0, 0, 1, 0, 0, 0, 1, 0,\n",
       "       1, 1, 1, 0, 0, 0, 0, 0, 0, 0, 1, 1, 1, 0, 0, 0, 0, 0, 0, 0, 0, 0,\n",
       "       0, 0, 1, 0, 0, 1, 1, 0, 0, 0, 1, 1, 1, 0, 1, 0, 1, 0, 0, 0, 0, 0,\n",
       "       0, 0, 0, 0, 0, 0, 0, 1, 0, 0, 0, 0, 0, 0, 0, 1, 1, 0, 0, 0, 1, 0,\n",
       "       0, 1, 1, 0, 0, 0, 0, 0, 0, 1, 0, 0, 0, 0, 0, 0, 0, 0, 0, 0, 0, 0,\n",
       "       0, 0, 0, 1, 0, 0, 1, 0, 0, 0, 0, 0, 0, 0, 0, 0, 0, 0, 0, 0, 0, 0,\n",
       "       1, 0, 0, 1, 1, 1, 1, 0, 0, 1, 0, 0, 0, 0, 0, 0, 1, 1, 0, 0, 0, 1,\n",
       "       0, 1, 0, 1, 1, 1, 0, 1, 0, 0, 0, 0, 0, 0, 0, 0, 1, 1, 1, 0, 0, 1,\n",
       "       0, 1, 1, 1, 0, 0, 0, 0, 0, 0, 0, 0, 0, 0, 0, 0, 1, 0, 0, 0, 0, 0,\n",
       "       0, 1, 0, 0, 1, 0, 0, 0, 0, 0, 0, 0, 0, 0, 0, 0, 1, 0, 0, 0, 0, 0,\n",
       "       0, 0, 0, 0, 1, 0, 0, 0, 0, 0, 0, 0, 0, 0, 1, 1, 1, 0, 0, 0, 0, 0,\n",
       "       0, 0, 0, 0, 1, 1, 0, 0, 0, 0, 0, 0, 0, 0, 0, 1, 0, 0, 0, 0, 1, 1,\n",
       "       1], dtype=int64)"
      ]
     },
     "execution_count": 13,
     "metadata": {},
     "output_type": "execute_result"
    }
   ],
   "source": [
    "y"
   ]
  },
  {
   "cell_type": "markdown",
   "metadata": {},
   "source": [
    "# Splitting the dataset into training and test set"
   ]
  },
  {
   "cell_type": "code",
   "execution_count": 14,
   "metadata": {},
   "outputs": [],
   "source": [
    "from sklearn.model_selection import train_test_split\n",
    "X_train, X_test, y_train, y_test = train_test_split(X, y, test_size = 0.2, random_state = 0)"
   ]
  },
  {
   "cell_type": "code",
   "execution_count": 15,
   "metadata": {},
   "outputs": [
    {
     "data": {
      "text/plain": [
       "array([[10,  1,  1, ...,  5,  4,  1],\n",
       "       [ 1,  1,  1, ...,  3,  1,  1],\n",
       "       [ 5,  1,  1, ...,  3,  1,  1],\n",
       "       ...,\n",
       "       [ 1,  1,  1, ...,  1,  1,  1],\n",
       "       [ 3,  1,  1, ...,  2,  1,  1],\n",
       "       [10,  9,  7, ...,  7,  7,  1]], dtype=int64)"
      ]
     },
     "execution_count": 15,
     "metadata": {},
     "output_type": "execute_result"
    }
   ],
   "source": [
    "X_train"
   ]
  },
  {
   "cell_type": "markdown",
   "metadata": {},
   "source": [
    " "
   ]
  },
  {
   "cell_type": "markdown",
   "metadata": {},
   "source": [
    "# Building the ANN"
   ]
  },
  {
   "cell_type": "markdown",
   "metadata": {},
   "source": [
    "**Initializing the ANN**"
   ]
  },
  {
   "cell_type": "code",
   "execution_count": 16,
   "metadata": {},
   "outputs": [],
   "source": [
    "ann = tf.keras.models.Sequential()"
   ]
  },
  {
   "cell_type": "markdown",
   "metadata": {},
   "source": [
    "**Adding the input layer and First hidden layer**"
   ]
  },
  {
   "cell_type": "code",
   "execution_count": 17,
   "metadata": {},
   "outputs": [],
   "source": [
    "ann.add(tf.keras.layers.Dense(units=6, activation='relu'))"
   ]
  },
  {
   "cell_type": "markdown",
   "metadata": {},
   "source": [
    "**Adding the second hidden layer**"
   ]
  },
  {
   "cell_type": "code",
   "execution_count": 18,
   "metadata": {},
   "outputs": [],
   "source": [
    "ann.add(tf.keras.layers.Dense(units=6, activation='relu'))"
   ]
  },
  {
   "cell_type": "markdown",
   "metadata": {},
   "source": [
    "**Adding the Output Layer**"
   ]
  },
  {
   "cell_type": "code",
   "execution_count": 19,
   "metadata": {},
   "outputs": [],
   "source": [
    "ann.add(tf.keras.layers.Dense(units=1, activation='sigmoid'))"
   ]
  },
  {
   "cell_type": "markdown",
   "metadata": {},
   "source": [
    "# Training the ANN"
   ]
  },
  {
   "cell_type": "markdown",
   "metadata": {},
   "source": [
    "**Compiling the ANN**"
   ]
  },
  {
   "cell_type": "code",
   "execution_count": 20,
   "metadata": {},
   "outputs": [],
   "source": [
    "ann.compile(optimizer = 'adam', loss = 'binary_crossentropy', metrics = ['accuracy'])"
   ]
  },
  {
   "cell_type": "markdown",
   "metadata": {},
   "source": [
    "**Training the ANN on Training Set**"
   ]
  },
  {
   "cell_type": "code",
   "execution_count": 21,
   "metadata": {},
   "outputs": [
    {
     "name": "stdout",
     "output_type": "stream",
     "text": [
      "Train on 546 samples\n",
      "Epoch 1/200\n",
      "546/546 [==============================] - 1s 2ms/sample - loss: 0.8416 - accuracy: 0.6538\n",
      "Epoch 2/200\n",
      "546/546 [==============================] - 0s 91us/sample - loss: 0.7764 - accuracy: 0.6538\n",
      "Epoch 3/200\n",
      "546/546 [==============================] - 0s 95us/sample - loss: 0.7311 - accuracy: 0.6538\n",
      "Epoch 4/200\n",
      "546/546 [==============================] - 0s 95us/sample - loss: 0.6981 - accuracy: 0.6538\n",
      "Epoch 5/200\n",
      "546/546 [==============================] - 0s 97us/sample - loss: 0.6758 - accuracy: 0.6538\n",
      "Epoch 6/200\n",
      "546/546 [==============================] - 0s 93us/sample - loss: 0.6535 - accuracy: 0.6593\n",
      "Epoch 7/200\n",
      "546/546 [==============================] - 0s 95us/sample - loss: 0.6340 - accuracy: 0.6740\n",
      "Epoch 8/200\n",
      "546/546 [==============================] - 0s 100us/sample - loss: 0.6136 - accuracy: 0.6996\n",
      "Epoch 9/200\n",
      "546/546 [==============================] - 0s 95us/sample - loss: 0.5920 - accuracy: 0.7491\n",
      "Epoch 10/200\n",
      "546/546 [==============================] - 0s 100us/sample - loss: 0.5714 - accuracy: 0.7857\n",
      "Epoch 11/200\n",
      "546/546 [==============================] - 0s 117us/sample - loss: 0.5482 - accuracy: 0.8480\n",
      "Epoch 12/200\n",
      "546/546 [==============================] - 0s 117us/sample - loss: 0.5226 - accuracy: 0.8846\n",
      "Epoch 13/200\n",
      "546/546 [==============================] - 0s 102us/sample - loss: 0.4975 - accuracy: 0.8810\n",
      "Epoch 14/200\n",
      "546/546 [==============================] - 0s 100us/sample - loss: 0.4723 - accuracy: 0.8864\n",
      "Epoch 15/200\n",
      "546/546 [==============================] - 0s 104us/sample - loss: 0.4457 - accuracy: 0.8938\n",
      "Epoch 16/200\n",
      "546/546 [==============================] - 0s 97us/sample - loss: 0.4211 - accuracy: 0.8956\n",
      "Epoch 17/200\n",
      "546/546 [==============================] - 0s 97us/sample - loss: 0.3969 - accuracy: 0.8974\n",
      "Epoch 18/200\n",
      "546/546 [==============================] - 0s 102us/sample - loss: 0.3747 - accuracy: 0.9066\n",
      "Epoch 19/200\n",
      "546/546 [==============================] - 0s 102us/sample - loss: 0.3541 - accuracy: 0.9139\n",
      "Epoch 20/200\n",
      "546/546 [==============================] - 0s 95us/sample - loss: 0.3368 - accuracy: 0.9158\n",
      "Epoch 21/200\n",
      "546/546 [==============================] - 0s 97us/sample - loss: 0.3194 - accuracy: 0.9249\n",
      "Epoch 22/200\n",
      "546/546 [==============================] - 0s 103us/sample - loss: 0.3050 - accuracy: 0.9249\n",
      "Epoch 23/200\n",
      "546/546 [==============================] - 0s 104us/sample - loss: 0.2915 - accuracy: 0.9267\n",
      "Epoch 24/200\n",
      "546/546 [==============================] - 0s 95us/sample - loss: 0.2800 - accuracy: 0.9249\n",
      "Epoch 25/200\n",
      "546/546 [==============================] - 0s 102us/sample - loss: 0.2693 - accuracy: 0.9322\n",
      "Epoch 26/200\n",
      "546/546 [==============================] - 0s 128us/sample - loss: 0.2611 - accuracy: 0.9341\n",
      "Epoch 27/200\n",
      "546/546 [==============================] - 0s 106us/sample - loss: 0.2523 - accuracy: 0.9359\n",
      "Epoch 28/200\n",
      "546/546 [==============================] - 0s 117us/sample - loss: 0.2436 - accuracy: 0.9322\n",
      "Epoch 29/200\n",
      "546/546 [==============================] - 0s 99us/sample - loss: 0.2387 - accuracy: 0.9304\n",
      "Epoch 30/200\n",
      "546/546 [==============================] - 0s 104us/sample - loss: 0.2296 - accuracy: 0.9377\n",
      "Epoch 31/200\n",
      "546/546 [==============================] - 0s 99us/sample - loss: 0.2242 - accuracy: 0.9396\n",
      "Epoch 32/200\n",
      "546/546 [==============================] - 0s 95us/sample - loss: 0.2183 - accuracy: 0.9432\n",
      "Epoch 33/200\n",
      "546/546 [==============================] - 0s 101us/sample - loss: 0.2127 - accuracy: 0.9432\n",
      "Epoch 34/200\n",
      "546/546 [==============================] - 0s 101us/sample - loss: 0.2075 - accuracy: 0.9451\n",
      "Epoch 35/200\n",
      "546/546 [==============================] - 0s 104us/sample - loss: 0.2041 - accuracy: 0.9451\n",
      "Epoch 36/200\n",
      "546/546 [==============================] - 0s 113us/sample - loss: 0.1984 - accuracy: 0.9469\n",
      "Epoch 37/200\n",
      "546/546 [==============================] - 0s 100us/sample - loss: 0.1945 - accuracy: 0.9451\n",
      "Epoch 38/200\n",
      "546/546 [==============================] - 0s 106us/sample - loss: 0.1908 - accuracy: 0.9469\n",
      "Epoch 39/200\n",
      "546/546 [==============================] - 0s 104us/sample - loss: 0.1864 - accuracy: 0.9487\n",
      "Epoch 40/200\n",
      "546/546 [==============================] - 0s 97us/sample - loss: 0.1840 - accuracy: 0.9487\n",
      "Epoch 41/200\n",
      "546/546 [==============================] - 0s 106us/sample - loss: 0.1807 - accuracy: 0.9505\n",
      "Epoch 42/200\n",
      "546/546 [==============================] - 0s 95us/sample - loss: 0.1762 - accuracy: 0.9542\n",
      "Epoch 43/200\n",
      "546/546 [==============================] - 0s 99us/sample - loss: 0.1732 - accuracy: 0.9505\n",
      "Epoch 44/200\n",
      "546/546 [==============================] - 0s 102us/sample - loss: 0.1697 - accuracy: 0.9542\n",
      "Epoch 45/200\n",
      "546/546 [==============================] - 0s 115us/sample - loss: 0.1674 - accuracy: 0.9542\n",
      "Epoch 46/200\n",
      "546/546 [==============================] - 0s 117us/sample - loss: 0.1640 - accuracy: 0.9579\n",
      "Epoch 47/200\n",
      "546/546 [==============================] - 0s 102us/sample - loss: 0.1616 - accuracy: 0.9579\n",
      "Epoch 48/200\n",
      "546/546 [==============================] - 0s 100us/sample - loss: 0.1593 - accuracy: 0.9579\n",
      "Epoch 49/200\n",
      "546/546 [==============================] - 0s 95us/sample - loss: 0.1563 - accuracy: 0.9579\n",
      "Epoch 50/200\n",
      "546/546 [==============================] - 0s 100us/sample - loss: 0.1546 - accuracy: 0.9579\n",
      "Epoch 51/200\n",
      "546/546 [==============================] - 0s 101us/sample - loss: 0.1511 - accuracy: 0.9634\n",
      "Epoch 52/200\n",
      "546/546 [==============================] - 0s 102us/sample - loss: 0.1482 - accuracy: 0.9652\n",
      "Epoch 53/200\n",
      "546/546 [==============================] - 0s 104us/sample - loss: 0.1458 - accuracy: 0.9634\n",
      "Epoch 54/200\n",
      "546/546 [==============================] - 0s 102us/sample - loss: 0.1461 - accuracy: 0.9615\n",
      "Epoch 55/200\n",
      "546/546 [==============================] - 0s 117us/sample - loss: 0.1416 - accuracy: 0.9652\n",
      "Epoch 56/200\n",
      "546/546 [==============================] - 0s 102us/sample - loss: 0.1394 - accuracy: 0.9652\n",
      "Epoch 57/200\n",
      "546/546 [==============================] - 0s 95us/sample - loss: 0.1370 - accuracy: 0.9634\n",
      "Epoch 58/200\n",
      "546/546 [==============================] - 0s 99us/sample - loss: 0.1357 - accuracy: 0.9634\n",
      "Epoch 59/200\n",
      "546/546 [==============================] - 0s 116us/sample - loss: 0.1383 - accuracy: 0.9579\n",
      "Epoch 60/200\n",
      "546/546 [==============================] - 0s 115us/sample - loss: 0.1352 - accuracy: 0.9615\n",
      "Epoch 61/200\n",
      "546/546 [==============================] - 0s 111us/sample - loss: 0.1308 - accuracy: 0.9634\n",
      "Epoch 62/200\n",
      "546/546 [==============================] - 0s 116us/sample - loss: 0.1296 - accuracy: 0.9652\n",
      "Epoch 63/200\n",
      "546/546 [==============================] - 0s 124us/sample - loss: 0.1279 - accuracy: 0.9634\n",
      "Epoch 64/200\n",
      "546/546 [==============================] - 0s 115us/sample - loss: 0.1262 - accuracy: 0.9634\n",
      "Epoch 65/200\n",
      "546/546 [==============================] - 0s 104us/sample - loss: 0.1249 - accuracy: 0.9652\n",
      "Epoch 66/200\n",
      "546/546 [==============================] - 0s 99us/sample - loss: 0.1235 - accuracy: 0.9634\n",
      "Epoch 67/200\n",
      "546/546 [==============================] - 0s 97us/sample - loss: 0.1239 - accuracy: 0.9597\n",
      "Epoch 68/200\n",
      "546/546 [==============================] - 0s 90us/sample - loss: 0.1215 - accuracy: 0.9634\n",
      "Epoch 69/200\n",
      "546/546 [==============================] - 0s 95us/sample - loss: 0.1208 - accuracy: 0.9670\n",
      "Epoch 70/200\n",
      "546/546 [==============================] - 0s 89us/sample - loss: 0.1176 - accuracy: 0.9670\n",
      "Epoch 71/200\n",
      "546/546 [==============================] - 0s 93us/sample - loss: 0.1172 - accuracy: 0.9652\n",
      "Epoch 72/200\n",
      "546/546 [==============================] - 0s 90us/sample - loss: 0.1140 - accuracy: 0.9670\n",
      "Epoch 73/200\n",
      "546/546 [==============================] - 0s 100us/sample - loss: 0.1135 - accuracy: 0.9652\n",
      "Epoch 74/200\n",
      "546/546 [==============================] - 0s 93us/sample - loss: 0.1118 - accuracy: 0.9652\n",
      "Epoch 75/200\n",
      "546/546 [==============================] - 0s 99us/sample - loss: 0.1113 - accuracy: 0.9670\n",
      "Epoch 76/200\n",
      "546/546 [==============================] - 0s 91us/sample - loss: 0.1100 - accuracy: 0.9652\n",
      "Epoch 77/200\n",
      "546/546 [==============================] - 0s 99us/sample - loss: 0.1087 - accuracy: 0.9652\n",
      "Epoch 78/200\n"
     ]
    },
    {
     "name": "stdout",
     "output_type": "stream",
     "text": [
      "546/546 [==============================] - 0s 95us/sample - loss: 0.1084 - accuracy: 0.9670\n",
      "Epoch 79/200\n",
      "546/546 [==============================] - 0s 93us/sample - loss: 0.1067 - accuracy: 0.9670\n",
      "Epoch 80/200\n",
      "546/546 [==============================] - 0s 88us/sample - loss: 0.1057 - accuracy: 0.9689\n",
      "Epoch 81/200\n",
      "546/546 [==============================] - 0s 89us/sample - loss: 0.1045 - accuracy: 0.9689\n",
      "Epoch 82/200\n",
      "546/546 [==============================] - 0s 93us/sample - loss: 0.1043 - accuracy: 0.9652\n",
      "Epoch 83/200\n",
      "546/546 [==============================] - 0s 89us/sample - loss: 0.1028 - accuracy: 0.9707\n",
      "Epoch 84/200\n",
      "546/546 [==============================] - 0s 91us/sample - loss: 0.1010 - accuracy: 0.9689\n",
      "Epoch 85/200\n",
      "546/546 [==============================] - 0s 91us/sample - loss: 0.1000 - accuracy: 0.9689\n",
      "Epoch 86/200\n",
      "546/546 [==============================] - 0s 93us/sample - loss: 0.0991 - accuracy: 0.9689\n",
      "Epoch 87/200\n",
      "546/546 [==============================] - 0s 93us/sample - loss: 0.0974 - accuracy: 0.9689\n",
      "Epoch 88/200\n",
      "546/546 [==============================] - 0s 91us/sample - loss: 0.0967 - accuracy: 0.9689\n",
      "Epoch 89/200\n",
      "546/546 [==============================] - 0s 90us/sample - loss: 0.0955 - accuracy: 0.9689\n",
      "Epoch 90/200\n",
      "546/546 [==============================] - 0s 97us/sample - loss: 0.0952 - accuracy: 0.9707\n",
      "Epoch 91/200\n",
      "546/546 [==============================] - 0s 106us/sample - loss: 0.0942 - accuracy: 0.9689\n",
      "Epoch 92/200\n",
      "546/546 [==============================] - 0s 104us/sample - loss: 0.0947 - accuracy: 0.9689\n",
      "Epoch 93/200\n",
      "546/546 [==============================] - 0s 98us/sample - loss: 0.0927 - accuracy: 0.9689\n",
      "Epoch 94/200\n",
      "546/546 [==============================] - 0s 117us/sample - loss: 0.0992 - accuracy: 0.9689\n",
      "Epoch 95/200\n",
      "546/546 [==============================] - 0s 100us/sample - loss: 0.0956 - accuracy: 0.9707\n",
      "Epoch 96/200\n",
      "546/546 [==============================] - 0s 97us/sample - loss: 0.0927 - accuracy: 0.9689\n",
      "Epoch 97/200\n",
      "546/546 [==============================] - 0s 104us/sample - loss: 0.0911 - accuracy: 0.9670\n",
      "Epoch 98/200\n",
      "546/546 [==============================] - 0s 102us/sample - loss: 0.0904 - accuracy: 0.9689\n",
      "Epoch 99/200\n",
      "546/546 [==============================] - 0s 117us/sample - loss: 0.0898 - accuracy: 0.9670\n",
      "Epoch 100/200\n",
      "546/546 [==============================] - 0s 113us/sample - loss: 0.0894 - accuracy: 0.9707\n",
      "Epoch 101/200\n",
      "546/546 [==============================] - 0s 100us/sample - loss: 0.0887 - accuracy: 0.9689\n",
      "Epoch 102/200\n",
      "546/546 [==============================] - 0s 106us/sample - loss: 0.0882 - accuracy: 0.9707\n",
      "Epoch 103/200\n",
      "546/546 [==============================] - 0s 101us/sample - loss: 0.0878 - accuracy: 0.9707\n",
      "Epoch 104/200\n",
      "546/546 [==============================] - 0s 93us/sample - loss: 0.0878 - accuracy: 0.9707\n",
      "Epoch 105/200\n",
      "546/546 [==============================] - 0s 104us/sample - loss: 0.0870 - accuracy: 0.9707\n",
      "Epoch 106/200\n",
      "546/546 [==============================] - 0s 95us/sample - loss: 0.0867 - accuracy: 0.9725\n",
      "Epoch 107/200\n",
      "546/546 [==============================] - 0s 100us/sample - loss: 0.0864 - accuracy: 0.9725\n",
      "Epoch 108/200\n",
      "546/546 [==============================] - 0s 128us/sample - loss: 0.0857 - accuracy: 0.9725\n",
      "Epoch 109/200\n",
      "546/546 [==============================] - 0s 119us/sample - loss: 0.0857 - accuracy: 0.9725\n",
      "Epoch 110/200\n",
      "546/546 [==============================] - 0s 101us/sample - loss: 0.0855 - accuracy: 0.9725\n",
      "Epoch 111/200\n",
      "546/546 [==============================] - 0s 95us/sample - loss: 0.0855 - accuracy: 0.9725\n",
      "Epoch 112/200\n",
      "546/546 [==============================] - ETA: 0s - loss: 0.0398 - accuracy: 1.00 - 0s 97us/sample - loss: 0.0846 - accuracy: 0.9725\n",
      "Epoch 113/200\n",
      "546/546 [==============================] - 0s 91us/sample - loss: 0.0841 - accuracy: 0.9744\n",
      "Epoch 114/200\n",
      "546/546 [==============================] - 0s 93us/sample - loss: 0.0837 - accuracy: 0.9762\n",
      "Epoch 115/200\n",
      "546/546 [==============================] - 0s 93us/sample - loss: 0.0832 - accuracy: 0.9744\n",
      "Epoch 116/200\n",
      "546/546 [==============================] - 0s 89us/sample - loss: 0.0831 - accuracy: 0.9744\n",
      "Epoch 117/200\n",
      "546/546 [==============================] - 0s 93us/sample - loss: 0.0832 - accuracy: 0.9762\n",
      "Epoch 118/200\n",
      "546/546 [==============================] - 0s 89us/sample - loss: 0.0824 - accuracy: 0.9762\n",
      "Epoch 119/200\n",
      "546/546 [==============================] - 0s 91us/sample - loss: 0.0822 - accuracy: 0.9744\n",
      "Epoch 120/200\n",
      "546/546 [==============================] - 0s 89us/sample - loss: 0.0827 - accuracy: 0.9725\n",
      "Epoch 121/200\n",
      "546/546 [==============================] - 0s 95us/sample - loss: 0.0823 - accuracy: 0.9725\n",
      "Epoch 122/200\n",
      "546/546 [==============================] - 0s 99us/sample - loss: 0.0817 - accuracy: 0.9744\n",
      "Epoch 123/200\n",
      "546/546 [==============================] - 0s 104us/sample - loss: 0.0810 - accuracy: 0.9725\n",
      "Epoch 124/200\n",
      "546/546 [==============================] - ETA: 0s - loss: 0.0848 - accuracy: 0.96 - 0s 119us/sample - loss: 0.0809 - accuracy: 0.9707\n",
      "Epoch 125/200\n",
      "546/546 [==============================] - 0s 100us/sample - loss: 0.0803 - accuracy: 0.9744\n",
      "Epoch 126/200\n",
      "546/546 [==============================] - 0s 97us/sample - loss: 0.0805 - accuracy: 0.9744\n",
      "Epoch 127/200\n",
      "546/546 [==============================] - 0s 95us/sample - loss: 0.0823 - accuracy: 0.9689\n",
      "Epoch 128/200\n",
      "546/546 [==============================] - 0s 95us/sample - loss: 0.0806 - accuracy: 0.9744\n",
      "Epoch 129/200\n",
      "546/546 [==============================] - 0s 91us/sample - loss: 0.0793 - accuracy: 0.9762\n",
      "Epoch 130/200\n",
      "546/546 [==============================] - 0s 95us/sample - loss: 0.0794 - accuracy: 0.9725\n",
      "Epoch 131/200\n",
      "546/546 [==============================] - 0s 84us/sample - loss: 0.0787 - accuracy: 0.9744\n",
      "Epoch 132/200\n",
      "546/546 [==============================] - 0s 95us/sample - loss: 0.0784 - accuracy: 0.9725\n",
      "Epoch 133/200\n",
      "546/546 [==============================] - 0s 93us/sample - loss: 0.0780 - accuracy: 0.9725\n",
      "Epoch 134/200\n",
      "546/546 [==============================] - 0s 90us/sample - loss: 0.0789 - accuracy: 0.9707\n",
      "Epoch 135/200\n",
      "546/546 [==============================] - 0s 93us/sample - loss: 0.0778 - accuracy: 0.9744\n",
      "Epoch 136/200\n",
      "546/546 [==============================] - 0s 119us/sample - loss: 0.0775 - accuracy: 0.9744\n",
      "Epoch 137/200\n",
      "546/546 [==============================] - 0s 119us/sample - loss: 0.0782 - accuracy: 0.9725\n",
      "Epoch 138/200\n",
      "546/546 [==============================] - 0s 122us/sample - loss: 0.0780 - accuracy: 0.9707\n",
      "Epoch 139/200\n",
      "546/546 [==============================] - 0s 123us/sample - loss: 0.0767 - accuracy: 0.9762\n",
      "Epoch 140/200\n",
      "546/546 [==============================] - 0s 102us/sample - loss: 0.0764 - accuracy: 0.9780\n",
      "Epoch 141/200\n",
      "546/546 [==============================] - 0s 106us/sample - loss: 0.0760 - accuracy: 0.9762\n",
      "Epoch 142/200\n",
      "546/546 [==============================] - 0s 122us/sample - loss: 0.0754 - accuracy: 0.9762\n",
      "Epoch 143/200\n",
      "546/546 [==============================] - 0s 113us/sample - loss: 0.0758 - accuracy: 0.9762\n",
      "Epoch 144/200\n",
      "546/546 [==============================] - 0s 119us/sample - loss: 0.0756 - accuracy: 0.9744\n",
      "Epoch 145/200\n",
      "546/546 [==============================] - 0s 113us/sample - loss: 0.0750 - accuracy: 0.9744\n",
      "Epoch 146/200\n",
      "546/546 [==============================] - 0s 126us/sample - loss: 0.0745 - accuracy: 0.9780\n",
      "Epoch 147/200\n",
      "546/546 [==============================] - 0s 126us/sample - loss: 0.0741 - accuracy: 0.9762\n",
      "Epoch 148/200\n",
      "546/546 [==============================] - 0s 135us/sample - loss: 0.0739 - accuracy: 0.9762\n",
      "Epoch 149/200\n",
      "546/546 [==============================] - 0s 117us/sample - loss: 0.0743 - accuracy: 0.9762\n",
      "Epoch 150/200\n",
      "546/546 [==============================] - 0s 119us/sample - loss: 0.0739 - accuracy: 0.9762\n",
      "Epoch 151/200\n",
      "546/546 [==============================] - 0s 126us/sample - loss: 0.0729 - accuracy: 0.9780\n",
      "Epoch 152/200\n",
      "546/546 [==============================] - 0s 101us/sample - loss: 0.0731 - accuracy: 0.9762\n",
      "Epoch 153/200\n",
      "546/546 [==============================] - 0s 95us/sample - loss: 0.0728 - accuracy: 0.9780\n",
      "Epoch 154/200\n"
     ]
    },
    {
     "name": "stdout",
     "output_type": "stream",
     "text": [
      "546/546 [==============================] - 0s 102us/sample - loss: 0.0737 - accuracy: 0.9744\n",
      "Epoch 155/200\n",
      "546/546 [==============================] - 0s 97us/sample - loss: 0.0721 - accuracy: 0.9762\n",
      "Epoch 156/200\n",
      "546/546 [==============================] - 0s 97us/sample - loss: 0.0722 - accuracy: 0.9780\n",
      "Epoch 157/200\n",
      "546/546 [==============================] - 0s 88us/sample - loss: 0.0811 - accuracy: 0.9670\n",
      "Epoch 158/200\n",
      "546/546 [==============================] - 0s 93us/sample - loss: 0.0754 - accuracy: 0.9707\n",
      "Epoch 159/200\n",
      "546/546 [==============================] - 0s 91us/sample - loss: 0.0726 - accuracy: 0.9744\n",
      "Epoch 160/200\n",
      "546/546 [==============================] - 0s 93us/sample - loss: 0.0718 - accuracy: 0.9762\n",
      "Epoch 161/200\n",
      "546/546 [==============================] - 0s 99us/sample - loss: 0.0739 - accuracy: 0.9725\n",
      "Epoch 162/200\n",
      "546/546 [==============================] - 0s 90us/sample - loss: 0.0728 - accuracy: 0.9780\n",
      "Epoch 163/200\n",
      "546/546 [==============================] - 0s 92us/sample - loss: 0.0744 - accuracy: 0.9744\n",
      "Epoch 164/200\n",
      "546/546 [==============================] - 0s 84us/sample - loss: 0.0709 - accuracy: 0.9780\n",
      "Epoch 165/200\n",
      "546/546 [==============================] - 0s 95us/sample - loss: 0.0711 - accuracy: 0.9762\n",
      "Epoch 166/200\n",
      "546/546 [==============================] - 0s 100us/sample - loss: 0.0707 - accuracy: 0.9799\n",
      "Epoch 167/200\n",
      "546/546 [==============================] - 0s 86us/sample - loss: 0.0829 - accuracy: 0.9670\n",
      "Epoch 168/200\n",
      "546/546 [==============================] - 0s 89us/sample - loss: 0.0784 - accuracy: 0.9689\n",
      "Epoch 169/200\n",
      "546/546 [==============================] - 0s 97us/sample - loss: 0.0709 - accuracy: 0.9799\n",
      "Epoch 170/200\n",
      "546/546 [==============================] - 0s 97us/sample - loss: 0.0702 - accuracy: 0.9780\n",
      "Epoch 171/200\n",
      "546/546 [==============================] - 0s 102us/sample - loss: 0.0782 - accuracy: 0.9689\n",
      "Epoch 172/200\n",
      "546/546 [==============================] - 0s 91us/sample - loss: 0.0719 - accuracy: 0.9780\n",
      "Epoch 173/200\n",
      "546/546 [==============================] - 0s 90us/sample - loss: 0.0703 - accuracy: 0.9799\n",
      "Epoch 174/200\n",
      "546/546 [==============================] - 0s 93us/sample - loss: 0.0704 - accuracy: 0.9817\n",
      "Epoch 175/200\n",
      "546/546 [==============================] - 0s 93us/sample - loss: 0.0703 - accuracy: 0.9799\n",
      "Epoch 176/200\n",
      "546/546 [==============================] - 0s 93us/sample - loss: 0.0692 - accuracy: 0.9799\n",
      "Epoch 177/200\n",
      "546/546 [==============================] - 0s 91us/sample - loss: 0.0694 - accuracy: 0.9799\n",
      "Epoch 178/200\n",
      "546/546 [==============================] - 0s 95us/sample - loss: 0.0704 - accuracy: 0.9799\n",
      "Epoch 179/200\n",
      "546/546 [==============================] - 0s 91us/sample - loss: 0.0692 - accuracy: 0.9780\n",
      "Epoch 180/200\n",
      "546/546 [==============================] - 0s 99us/sample - loss: 0.0690 - accuracy: 0.9799\n",
      "Epoch 181/200\n",
      "546/546 [==============================] - 0s 95us/sample - loss: 0.0694 - accuracy: 0.9780\n",
      "Epoch 182/200\n",
      "546/546 [==============================] - 0s 99us/sample - loss: 0.0691 - accuracy: 0.9799\n",
      "Epoch 183/200\n",
      "546/546 [==============================] - 0s 97us/sample - loss: 0.0688 - accuracy: 0.9799\n",
      "Epoch 184/200\n",
      "546/546 [==============================] - 0s 99us/sample - loss: 0.0694 - accuracy: 0.9799\n",
      "Epoch 185/200\n",
      "546/546 [==============================] - 0s 95us/sample - loss: 0.0745 - accuracy: 0.9744\n",
      "Epoch 186/200\n",
      "546/546 [==============================] - 0s 93us/sample - loss: 0.0750 - accuracy: 0.9725\n",
      "Epoch 187/200\n",
      "546/546 [==============================] - 0s 95us/sample - loss: 0.0696 - accuracy: 0.9780\n",
      "Epoch 188/200\n",
      "546/546 [==============================] - 0s 93us/sample - loss: 0.0693 - accuracy: 0.9799\n",
      "Epoch 189/200\n",
      "546/546 [==============================] - 0s 95us/sample - loss: 0.0692 - accuracy: 0.9817\n",
      "Epoch 190/200\n",
      "546/546 [==============================] - 0s 91us/sample - loss: 0.0693 - accuracy: 0.9817\n",
      "Epoch 191/200\n",
      "546/546 [==============================] - 0s 88us/sample - loss: 0.0680 - accuracy: 0.9817\n",
      "Epoch 192/200\n",
      "546/546 [==============================] - 0s 97us/sample - loss: 0.0683 - accuracy: 0.9799\n",
      "Epoch 193/200\n",
      "546/546 [==============================] - 0s 90us/sample - loss: 0.0682 - accuracy: 0.9799\n",
      "Epoch 194/200\n",
      "546/546 [==============================] - 0s 93us/sample - loss: 0.0680 - accuracy: 0.9817\n",
      "Epoch 195/200\n",
      "546/546 [==============================] - 0s 91us/sample - loss: 0.0678 - accuracy: 0.9817\n",
      "Epoch 196/200\n",
      "546/546 [==============================] - 0s 89us/sample - loss: 0.0675 - accuracy: 0.9799\n",
      "Epoch 197/200\n",
      "546/546 [==============================] - 0s 88us/sample - loss: 0.0679 - accuracy: 0.9799\n",
      "Epoch 198/200\n",
      "546/546 [==============================] - 0s 91us/sample - loss: 0.0675 - accuracy: 0.9817\n",
      "Epoch 199/200\n",
      "546/546 [==============================] - 0s 93us/sample - loss: 0.0675 - accuracy: 0.9817\n",
      "Epoch 200/200\n",
      "546/546 [==============================] - 0s 104us/sample - loss: 0.0673 - accuracy: 0.9817\n"
     ]
    },
    {
     "data": {
      "text/plain": [
       "<tensorflow.python.keras.callbacks.History at 0x1f33e50b5c8>"
      ]
     },
     "execution_count": 21,
     "metadata": {},
     "output_type": "execute_result"
    }
   ],
   "source": [
    "ann.fit(x= X_train, y= y_train, batch_size=32, epochs=200)"
   ]
  },
  {
   "cell_type": "markdown",
   "metadata": {},
   "source": [
    "# Making prediction and Evaluating the model"
   ]
  },
  {
   "cell_type": "markdown",
   "metadata": {},
   "source": [
    "**Predicting the result of a single observation**"
   ]
  },
  {
   "cell_type": "code",
   "execution_count": 22,
   "metadata": {},
   "outputs": [
    {
     "name": "stdout",
     "output_type": "stream",
     "text": [
      "[[False]]\n"
     ]
    }
   ],
   "source": [
    "print(ann.predict([[5,4,4,7,2,1,3,1,1]])>0.5)"
   ]
  },
  {
   "cell_type": "markdown",
   "metadata": {},
   "source": [
    "**Predicting the test set result**"
   ]
  },
  {
   "cell_type": "code",
   "execution_count": 23,
   "metadata": {},
   "outputs": [
    {
     "name": "stdout",
     "output_type": "stream",
     "text": [
      "[[0 0]\n",
      " [0 0]\n",
      " [1 1]\n",
      " [1 1]\n",
      " [0 0]\n",
      " [0 0]\n",
      " [0 0]\n",
      " [1 1]\n",
      " [0 0]\n",
      " [0 0]\n",
      " [1 1]\n",
      " [0 0]\n",
      " [1 1]\n",
      " [0 0]\n",
      " [0 0]\n",
      " [0 0]\n",
      " [1 1]\n",
      " [1 1]\n",
      " [1 1]\n",
      " [0 0]\n",
      " [0 0]\n",
      " [0 0]\n",
      " [1 1]\n",
      " [0 0]\n",
      " [1 1]\n",
      " [1 1]\n",
      " [0 0]\n",
      " [0 0]\n",
      " [0 0]\n",
      " [1 1]\n",
      " [0 0]\n",
      " [1 1]\n",
      " [1 1]\n",
      " [0 0]\n",
      " [0 0]\n",
      " [0 0]\n",
      " [1 1]\n",
      " [1 1]\n",
      " [0 0]\n",
      " [1 1]\n",
      " [0 0]\n",
      " [0 0]\n",
      " [0 0]\n",
      " [0 0]\n",
      " [0 0]\n",
      " [0 0]\n",
      " [0 0]\n",
      " [1 1]\n",
      " [0 0]\n",
      " [0 0]\n",
      " [1 1]\n",
      " [0 0]\n",
      " [1 1]\n",
      " [0 0]\n",
      " [0 0]\n",
      " [0 0]\n",
      " [1 1]\n",
      " [1 0]\n",
      " [0 0]\n",
      " [1 1]\n",
      " [0 0]\n",
      " [0 0]\n",
      " [0 0]\n",
      " [0 0]\n",
      " [0 0]\n",
      " [0 0]\n",
      " [0 0]\n",
      " [0 0]\n",
      " [1 1]\n",
      " [1 1]\n",
      " [0 0]\n",
      " [0 0]\n",
      " [0 0]\n",
      " [0 0]\n",
      " [0 0]\n",
      " [0 0]\n",
      " [1 1]\n",
      " [0 0]\n",
      " [0 0]\n",
      " [0 0]\n",
      " [1 1]\n",
      " [0 0]\n",
      " [1 1]\n",
      " [0 0]\n",
      " [0 0]\n",
      " [1 1]\n",
      " [0 0]\n",
      " [1 0]\n",
      " [1 1]\n",
      " [0 0]\n",
      " [1 1]\n",
      " [0 0]\n",
      " [1 1]\n",
      " [0 1]\n",
      " [1 1]\n",
      " [1 0]\n",
      " [1 1]\n",
      " [1 1]\n",
      " [1 1]\n",
      " [0 0]\n",
      " [0 0]\n",
      " [0 0]\n",
      " [1 1]\n",
      " [1 1]\n",
      " [0 0]\n",
      " [0 0]\n",
      " [1 1]\n",
      " [1 1]\n",
      " [0 0]\n",
      " [0 0]\n",
      " [1 1]\n",
      " [0 0]\n",
      " [0 0]\n",
      " [1 1]\n",
      " [0 0]\n",
      " [0 0]\n",
      " [0 0]\n",
      " [0 1]\n",
      " [0 0]\n",
      " [0 0]\n",
      " [0 0]\n",
      " [1 1]\n",
      " [0 0]\n",
      " [0 0]\n",
      " [1 1]\n",
      " [1 1]\n",
      " [0 0]\n",
      " [1 1]\n",
      " [0 0]\n",
      " [1 1]\n",
      " [0 0]\n",
      " [0 0]\n",
      " [1 1]\n",
      " [0 0]\n",
      " [0 0]\n",
      " [1 1]\n",
      " [0 0]]\n"
     ]
    }
   ],
   "source": [
    "y_pred = ann.predict(X_test)\n",
    "y_pred = (y_pred > 0.5)\n",
    "print(np.concatenate((y_pred.reshape(len(y_pred),1), y_test.reshape(len(y_test),1)),1))\n"
   ]
  },
  {
   "cell_type": "markdown",
   "metadata": {},
   "source": [
    "**Evaluating the ANN**"
   ]
  },
  {
   "cell_type": "code",
   "execution_count": 24,
   "metadata": {},
   "outputs": [
    {
     "data": {
      "text/html": [
       "<div>\n",
       "<style scoped>\n",
       "    .dataframe tbody tr th:only-of-type {\n",
       "        vertical-align: middle;\n",
       "    }\n",
       "\n",
       "    .dataframe tbody tr th {\n",
       "        vertical-align: top;\n",
       "    }\n",
       "\n",
       "    .dataframe thead th {\n",
       "        text-align: right;\n",
       "    }\n",
       "</style>\n",
       "<table border=\"1\" class=\"dataframe\">\n",
       "  <thead>\n",
       "    <tr style=\"text-align: right;\">\n",
       "      <th></th>\n",
       "      <th>loss</th>\n",
       "      <th>accuracy</th>\n",
       "    </tr>\n",
       "  </thead>\n",
       "  <tbody>\n",
       "    <tr>\n",
       "      <th>0</th>\n",
       "      <td>0.841642</td>\n",
       "      <td>0.653846</td>\n",
       "    </tr>\n",
       "    <tr>\n",
       "      <th>1</th>\n",
       "      <td>0.776382</td>\n",
       "      <td>0.653846</td>\n",
       "    </tr>\n",
       "    <tr>\n",
       "      <th>2</th>\n",
       "      <td>0.731138</td>\n",
       "      <td>0.653846</td>\n",
       "    </tr>\n",
       "    <tr>\n",
       "      <th>3</th>\n",
       "      <td>0.698061</td>\n",
       "      <td>0.653846</td>\n",
       "    </tr>\n",
       "    <tr>\n",
       "      <th>4</th>\n",
       "      <td>0.675776</td>\n",
       "      <td>0.653846</td>\n",
       "    </tr>\n",
       "    <tr>\n",
       "      <th>...</th>\n",
       "      <td>...</td>\n",
       "      <td>...</td>\n",
       "    </tr>\n",
       "    <tr>\n",
       "      <th>195</th>\n",
       "      <td>0.067542</td>\n",
       "      <td>0.979853</td>\n",
       "    </tr>\n",
       "    <tr>\n",
       "      <th>196</th>\n",
       "      <td>0.067855</td>\n",
       "      <td>0.979853</td>\n",
       "    </tr>\n",
       "    <tr>\n",
       "      <th>197</th>\n",
       "      <td>0.067461</td>\n",
       "      <td>0.981685</td>\n",
       "    </tr>\n",
       "    <tr>\n",
       "      <th>198</th>\n",
       "      <td>0.067489</td>\n",
       "      <td>0.981685</td>\n",
       "    </tr>\n",
       "    <tr>\n",
       "      <th>199</th>\n",
       "      <td>0.067324</td>\n",
       "      <td>0.981685</td>\n",
       "    </tr>\n",
       "  </tbody>\n",
       "</table>\n",
       "<p>200 rows × 2 columns</p>\n",
       "</div>"
      ],
      "text/plain": [
       "         loss  accuracy\n",
       "0    0.841642  0.653846\n",
       "1    0.776382  0.653846\n",
       "2    0.731138  0.653846\n",
       "3    0.698061  0.653846\n",
       "4    0.675776  0.653846\n",
       "..        ...       ...\n",
       "195  0.067542  0.979853\n",
       "196  0.067855  0.979853\n",
       "197  0.067461  0.981685\n",
       "198  0.067489  0.981685\n",
       "199  0.067324  0.981685\n",
       "\n",
       "[200 rows x 2 columns]"
      ]
     },
     "execution_count": 24,
     "metadata": {},
     "output_type": "execute_result"
    }
   ],
   "source": [
    "pd.DataFrame(ann.history.history)"
   ]
  },
  {
   "cell_type": "code",
   "execution_count": 25,
   "metadata": {},
   "outputs": [
    {
     "data": {
      "text/plain": [
       "<AxesSubplot:>"
      ]
     },
     "execution_count": 25,
     "metadata": {},
     "output_type": "execute_result"
    },
    {
     "data": {
      "image/png": "[encoded data removed]",
      "text/plain": [
       "<Figure size 1080x720 with 1 Axes>"
      ]
     },
     "metadata": {
      "needs_background": "light"
     },
     "output_type": "display_data"
    }
   ],
   "source": [
    "pd.DataFrame(ann.history.history).plot(figsize=(15,10))"
   ]
  },
  {
   "cell_type": "code",
   "execution_count": 26,
   "metadata": {},
   "outputs": [
    {
     "name": "stdout",
     "output_type": "stream",
     "text": [
      "546/546 [==============================] - 0s 444us/sample - loss: 0.0668 - accuracy: 0.9817\n"
     ]
    },
    {
     "data": {
      "text/plain": [
       "[0.06675471948978283, 0.981685]"
      ]
     },
     "execution_count": 26,
     "metadata": {},
     "output_type": "execute_result"
    }
   ],
   "source": [
    "ann.evaluate(X_train, y_train)"
   ]
  },
  {
   "cell_type": "code",
   "execution_count": 27,
   "metadata": {},
   "outputs": [
    {
     "name": "stdout",
     "output_type": "stream",
     "text": [
      "137/137 [==============================] - 0s 123us/sample - loss: 0.0877 - accuracy: 0.9635\n"
     ]
    },
    {
     "data": {
      "text/plain": [
       "[0.08767451918310057, 0.96350366]"
      ]
     },
     "execution_count": 27,
     "metadata": {},
     "output_type": "execute_result"
    }
   ],
   "source": [
    "ann.evaluate(X_test, y_test)"
   ]
  },
  {
   "cell_type": "markdown",
   "metadata": {},
   "source": [
    "**Making the confusion matrix**"
   ]
  },
  {
   "cell_type": "code",
   "execution_count": 28,
   "metadata": {},
   "outputs": [
    {
     "name": "stdout",
     "output_type": "stream",
     "text": [
      "[[84  3]\n",
      " [ 2 48]]\n"
     ]
    }
   ],
   "source": [
    "from sklearn.metrics import confusion_matrix, accuracy_score\n",
    "cm = confusion_matrix(y_test, y_pred)\n",
    "print(cm)\n",
    "ac=accuracy_score(y_test, y_pred)"
   ]
  },
  {
   "cell_type": "markdown",
   "metadata": {},
   "source": [
    "**Printing the Accuracy of Model**"
   ]
  },
  {
   "cell_type": "code",
   "execution_count": 29,
   "metadata": {},
   "outputs": [
    {
     "name": "stdout",
     "output_type": "stream",
     "text": [
      "Accuracy: 96.35 %\n"
     ]
    }
   ],
   "source": [
    "print(\"Accuracy: {:.2f} %\".format(ac*100))"
   ]
  },
  {
   "cell_type": "markdown",
   "metadata": {},
   "source": [
    "# Designing the FrontEnd"
   ]
  },
  {
   "cell_type": "code",
   "execution_count": 52,
   "metadata": {},
   "outputs": [
    {
     "name": "stdout",
     "output_type": "stream",
     "text": [
      "Clump: 5\n",
      "Size: 5\n",
      "Shape: 6\n",
      "Adhesion: 4\n",
      "Epithelial_size: 5\n",
      "Bare: 6\n",
      "Bland: 2\n",
      "Nucleoli: 1\n",
      "Mitoses: 2\n",
      "Malignant\n"
     ]
    }
   ],
   "source": [
    "from tkinter import *\n",
    "\n",
    "\n",
    "root = Tk()\n",
    "w = \"800\"\n",
    "h = \"1000\"\n",
    "f14 = \"14\"\n",
    "f10 = \"10\"\n",
    "\n",
    "root.geometry(f\"{w}x{h}\")\n",
    "root.configure(bg='#1F2833')\n",
    "root.minsize(w, h)\n",
    "root.maxsize(w, h)\n",
    "root.title(\"Breast Cancer Detection\")\n",
    "\n",
    "# Algo\n",
    "\n",
    "\n",
    "def algo():\n",
    "\n",
    "    # Range must be in between in 1-10\n",
    "   \n",
    "    if(v1.get() > 10 or v2.get() > 10 or v3.get() > 10 or v4.get() > 10 or v5.get() > 10 or v6.get() > 10 or v7 .get() > 10 or v8.get() > 10 or v9.get() > 10):\n",
    "        ran = \"Please give Valid range\"\n",
    "        blank.delete(0, END)\n",
    "        blank.insert(0, ran)\n",
    "    else:\n",
    "          \n",
    "        # Initializing the variable that is to be used as a input in ANN algo\n",
    "\n",
    "        Clump = v1.get()\n",
    "        print(\"Clump:\", Clump)\n",
    "        Size = v2.get()\n",
    "        print(\"Size:\", Size)\n",
    "        Shape = v3.get()\n",
    "        print(\"Shape:\", Shape)\n",
    "        Adhesion = v4.get()\n",
    "        print(\"Adhesion:\", Adhesion)\n",
    "        Epithelial_size = v5.get()\n",
    "        print(\"Epithelial_size:\", Epithelial_size)\n",
    "        Bare = v6.get()\n",
    "        print(\"Bare:\", Bare)\n",
    "        Bland = v7.get()\n",
    "        print(\"Bland:\", Bland)\n",
    "        Nucleoli = v8.get()\n",
    "        print(\"Nucleoli:\", Nucleoli)\n",
    "        Mitoses = v9.get()\n",
    "        print(\"Mitoses:\", Mitoses)\n",
    "\n",
    "#         #Temporary True\n",
    "#         blank.delete(0,END)\n",
    "#         blank.insert(0,\"True\")\n",
    "\n",
    "\n",
    "\n",
    "\n",
    "\n",
    "    # ANN Algorithm Starts from here\n",
    "    \n",
    "    predict=(ann.predict([[v1.get(),v2.get(),v3.get(),v4.get(),v5.get(),v6.get(),v7.get(),v8.get(),v9.get()]])>0.5)\n",
    "    \n",
    "    #predict=print(ann.predict([[5,4,4,7,2,1,3,1,1]])>0.5)\n",
    "     \n",
    "    \n",
    "    # After ANN algo we will get Class as a output which may be 2 known as beingn or 4 known as malignant\n",
    "\n",
    "\n",
    "\n",
    "    # Here cl is the class \n",
    "    #predict = output of ANN algo Class may be 2 or 4\n",
    "    if predict[0][0] == False:\n",
    "        ans = \"Benign\"\n",
    "    else:\n",
    "        ans = \"Malignant\"\n",
    "    \n",
    "    blank.delete(0,END)\n",
    "    blank.insert(0,ans)\n",
    "    print(ans)\n",
    "\n",
    "\n",
    "label = Label(root, text=\"Breast Cancer Detection\",\n",
    "              font=\"Arial 25 bold\", bg=\"#1F2833\", fg=\"#FFE400\")\n",
    "label.grid(padx=180, pady=60)\n",
    "\n",
    "f = Frame(root, borderwidth=5, padx=25, pady=25, bg=\"#0B0C10\")\n",
    "f.grid()\n",
    "Label(f, text=\"*Give input range from 1-10.\").grid(column=1)\n",
    "Label(f, text=\"Clump Thickness: \", bg=\"#0B0C10\",\n",
    "      fg=\"white\", font=(\"Cooper Black\", f14)).grid(row=1, column=0)\n",
    "Label(f, text=\"Cell Size: \", bg=\"#0B0C10\", fg=\"white\",\n",
    "      font=(\"Cooper Black\", f14)).grid(row=2, column=0)\n",
    "Label(f, text=\"Cell Shape: \", bg=\"#0B0C10\", fg=\"white\",\n",
    "      font=(\"Cooper Black\", f14)).grid(row=3, column=0)\n",
    "Label(f, text=\"Marginal Adhesion: \", bg=\"#0B0C10\",\n",
    "      fg=\"white\", font=(\"Cooper Black\", f14)).grid(row=4, column=0)\n",
    "Label(f, text=\"Epithelial Cell Size: \", bg=\"#0B0C10\",\n",
    "      fg=\"white\", font=(\"Cooper Black\", f14)).grid(row=5, column=0)\n",
    "Label(f, text=\"Bare Nuclei: \", bg=\"#0B0C10\", fg=\"white\",\n",
    "      font=(\"Cooper Black\", f14)).grid(row=6, column=0)\n",
    "Label(f, text=\"Bland Chromatin: \", bg=\"#0B0C10\",\n",
    "      fg=\"white\", font=(\"Cooper Black\", f14)).grid(row=7, column=0)\n",
    "Label(f, text=\"Normal Nucleoli: \", bg=\"#0B0C10\",\n",
    "      fg=\"white\", font=(\"Cooper Black\", f14)).grid(row=8, column=0)\n",
    "Label(f, text=\"Mitoses: \", bg=\"#0B0C10\", fg=\"white\",\n",
    "      font=(\"Cooper Black\", f14)).grid(row=9, column=0)\n",
    "Label(f, text=\"Result:\", bg=\"#0B0C10\", fg=\"#FC4445\",\n",
    "      font=(\"Cooper Black\", 20)).grid(row=11, column=0)\n",
    "\n",
    "# Declare IntVar\n",
    "v1 = IntVar()\n",
    "v2 = IntVar()\n",
    "v3 = IntVar()\n",
    "v4 = IntVar()\n",
    "v5 = IntVar()\n",
    "v6 = IntVar()\n",
    "v7 = IntVar()\n",
    "v8 = IntVar()\n",
    "v9 = IntVar()\n",
    "b = StringVar()\n",
    "\n",
    "\n",
    "clump = Entry(f, textvariable=v1, bg=\"#45A29E\", font=(\"Arial\", f10))\n",
    "size = Entry(f, textvariable=v2, bg=\"#45A29E\", font=(\"Arial\", f10))\n",
    "shape = Entry(f, textvariable=v3, bg=\"#45A29E\", font=(\"Arial\", f10))\n",
    "adhesion = Entry(f, textvariable=v4, bg=\"#45A29E\", font=(\"Arial\", f10))\n",
    "epithelial_size = Entry(f, textvariable=v5, bg=\"#45A29E\", font=(\"Arial\", f10))\n",
    "bare = Entry(f, textvariable=v6, bg=\"#45A29E\", font=(\"Arial\", f10))\n",
    "bland = Entry(f, textvariable=v7, bg=\"#45A29E\", font=(\"Arial\", f10))\n",
    "nucleoli = Entry(f, textvariable=v8, bg=\"#45A29E\", font=(\"Arial\", f10))\n",
    "mitoses = Entry(f, textvariable=v9, bg=\"#45A29E\", font=(\"Arial\", f10))\n",
    "blank = Entry(f, textvariable=b, bg=\"#45A29E\", font=(\"Arial\", 14))\n",
    "\n",
    "clump.grid(row=1, column=1)\n",
    "size.grid(row=2, column=1)\n",
    "shape.grid(row=3, column=1)\n",
    "adhesion.grid(row=4, column=1)\n",
    "epithelial_size.grid(row=5, column=1)\n",
    "bare.grid(row=6, column=1)\n",
    "bland.grid(row=7, column=1)\n",
    "nucleoli.grid(row=8, column=1)\n",
    "mitoses.grid(row=9, column=1)\n",
    "\n",
    "\n",
    "Button(f, text=\"Submit\", bg=\"#F13C20\", padx=10, pady=5,\n",
    "       command=algo, font=(\"ALGERIAN\", 16)).grid(row=10, column=1, pady=15)\n",
    "\n",
    "blank.grid(row=11, column=1)\n",
    "\n",
    "root.mainloop()\n"
   ]
  },
  {
   "cell_type": "code",
   "execution_count": null,
   "metadata": {},
   "outputs": [],
   "source": []
  }
 ],
 "metadata": {
  "kernelspec": {
   "display_name": "Python 3",
   "language": "python",
   "name": "python3"
  },
  "language_info": {
   "codemirror_mode": {
    "name": "ipython",
    "version": 3
   },
   "file_extension": ".py",
   "mimetype": "text/x-python",
   "name": "python",
   "nbconvert_exporter": "python",
   "pygments_lexer": "ipython3",
   "version": "3.7.7"
  }
 },
 "nbformat": 4,
 "nbformat_minor": 4
}
